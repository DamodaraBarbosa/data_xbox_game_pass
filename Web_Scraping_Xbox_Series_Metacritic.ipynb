{
  "nbformat": 4,
  "nbformat_minor": 0,
  "metadata": {
    "colab": {
      "provenance": [],
      "authorship_tag": "ABX9TyMsWytVA6xS7hFqtnBmaA/L",
      "include_colab_link": true
    },
    "kernelspec": {
      "name": "python3",
      "display_name": "Python 3"
    },
    "language_info": {
      "name": "python"
    }
  },
  "cells": [
    {
      "cell_type": "markdown",
      "metadata": {
        "id": "view-in-github",
        "colab_type": "text"
      },
      "source": [
        "<a href=\"https://colab.research.google.com/github/DamodaraBarbosa/infos_xbox_game_pass/blob/main/Web_Scraping_Xbox_Series_Metacritic.ipynb\" target=\"_parent\"><img src=\"https://colab.research.google.com/assets/colab-badge.svg\" alt=\"Open In Colab\"/></a>"
      ]
    },
    {
      "cell_type": "markdown",
      "source": [
        "## Importando as bibliotecas que serão utilizadas\n"
      ],
      "metadata": {
        "id": "sT6l6MzjQD0d"
      }
    },
    {
      "cell_type": "markdown",
      "source": [
        "Pandas, urllib e bs4"
      ],
      "metadata": {
        "id": "Y0wmFkX0RES6"
      }
    },
    {
      "cell_type": "code",
      "execution_count": null,
      "metadata": {
        "id": "E8rJMqy9PzbX"
      },
      "outputs": [],
      "source": [
        "import pandas as pd\n",
        "from urllib.request import urlopen, Request\n",
        "from urllib.error import HTTPError, URLError\n",
        "from bs4 import BeautifulSoup"
      ]
    },
    {
      "cell_type": "markdown",
      "source": [
        "## Definindo algumas funções"
      ],
      "metadata": {
        "id": "TgqgSgCwR-_A"
      }
    },
    {
      "cell_type": "markdown",
      "source": [
        "Função para obter o metascore do jogo"
      ],
      "metadata": {
        "id": "R6rsDl6zSB3H"
      }
    },
    {
      "cell_type": "code",
      "source": [
        "# função para obtenção da nota do metascore\n",
        "\n",
        "def metascore_score(mscore):\n",
        "  if 'positive' in str(mscore):\n",
        "    meta = mscore.find('div', {'class': 'metascore_w large game positive'}).get_text()\n",
        "  elif 'mixed' in str(mscore):\n",
        "    meta = mscore.find('div', {'class': 'metascore_w large game mixed'}).get_text()\n",
        "  else:\n",
        "    meta = mscore.find('div', {'class': 'metascore_w large game negative'}).get_text()\n",
        "  \n",
        "  return meta"
      ],
      "metadata": {
        "id": "UvUH4yqqSLd1"
      },
      "execution_count": null,
      "outputs": []
    },
    {
      "cell_type": "markdown",
      "source": [
        "Função para obter o userscore do jogo"
      ],
      "metadata": {
        "id": "P0z-1eWsSHqY"
      }
    },
    {
      "cell_type": "code",
      "source": [
        "# função para obtenção da nota do userscore\n",
        "\n",
        "def userscore_score(uscore): \n",
        "  if 'positive' in str(uscore):\n",
        "    user = uscore.find('div', {'class': 'metascore_w user large game positive'}).get_text()\n",
        "  elif 'mixed' in str(uscore):\n",
        "    user = uscore.find('div', {'class': 'metascore_w user large game mixed'}).get_text()\n",
        "  elif 'negative' in str(uscore):\n",
        "    user = uscore.find('div', {'class': 'metascore_w user large game negative'}).get_text()\n",
        "  else:\n",
        "    user = uscore.find('div', {'class': 'metascore_w user large game tbd'}).get_text()\n",
        "  \n",
        "  return user"
      ],
      "metadata": {
        "id": "ChaLL3o_SOo_"
      },
      "execution_count": null,
      "outputs": []
    },
    {
      "cell_type": "markdown",
      "source": [
        "## Obtenção dos dados"
      ],
      "metadata": {
        "id": "VcdXB9jJR2SP"
      }
    },
    {
      "cell_type": "markdown",
      "source": [
        "Criando rotina de scraping"
      ],
      "metadata": {
        "id": "pPE5kll-R7A8"
      }
    },
    {
      "cell_type": "code",
      "source": [
        "# o dado de cada jogo será armazenado no dicionário 'game' e cada 'game' na lista 'games'\n",
        "\n",
        "game = dict()\n",
        "games = list()"
      ],
      "metadata": {
        "id": "UVXnIRp3QtI9"
      },
      "execution_count": null,
      "outputs": []
    },
    {
      "cell_type": "code",
      "source": [
        "for i in range(0, 3):\n",
        "  headers = {'User-Agent': 'Mozilla/5.0 (Windows NT 10.0; Win64; x64) AppleWebKit/537.36 (KHTML, like Gecko) Chrome/104.0.0.0 Safari/537.36'}\n",
        "\n",
        "  try:\n",
        "    req = Request(('https://www.metacritic.com/browse/games/release-date/available/xbox-series-x/metascore?page=' + str(i)), headers = headers)\n",
        "    response = urlopen(req)\n",
        "    html = response.read().decode('utf-8')\n",
        "    soup = BeautifulSoup(html, 'html.parser')\n",
        "  except HTTPError as e:\n",
        "    print(e.status, e.reason)\n",
        "  except URLError as e:\n",
        "    print(e.reason)\n",
        "\n",
        "  soup_jogos = soup.findAll('td', {'class': 'clamp-summary-wrap'})\n",
        "\n",
        "  for index, soup_jogo in enumerate(soup_jogos):\n",
        "    game['Name'] = soup_jogo.find('a', {'class': 'title'}).find('h3').get_text()\n",
        "    spans = soup_jogo.find('div', {'class': 'clamp-details'}).findAll('span')\n",
        "    game['Release date'] = spans[-1].get_text()\n",
        "\n",
        "    metascore = soup_jogo.find('div', {'class': 'clamp-metascore'})\n",
        "    userscore = soup_jogo.find('div', {'class': 'clamp-userscore'})\n",
        "    game['Metascore'] = metascore_score(metascore)\n",
        "    game['Userscore'] = userscore_score(userscore)\n",
        "\n",
        "    games.append(game.copy())"
      ],
      "metadata": {
        "id": "WddWvQjuT7gC"
      },
      "execution_count": null,
      "outputs": []
    },
    {
      "cell_type": "code",
      "source": [
        "game"
      ],
      "metadata": {
        "colab": {
          "base_uri": "https://localhost:8080/"
        },
        "id": "Wp-_1sadUDHu",
        "outputId": "32b9bf53-a738-4797-d329-46e17fcdb1eb"
      },
      "execution_count": null,
      "outputs": [
        {
          "output_type": "execute_result",
          "data": {
            "text/plain": [
              "{'Name': 'Foreclosed',\n",
              " 'Release date': 'August 12, 2021',\n",
              " 'Metascore': '59',\n",
              " 'Userscore': '5.8'}"
            ]
          },
          "metadata": {},
          "execution_count": 6
        }
      ]
    },
    {
      "cell_type": "code",
      "source": [
        "len(games)"
      ],
      "metadata": {
        "colab": {
          "base_uri": "https://localhost:8080/"
        },
        "id": "7B1YzaReUnlK",
        "outputId": "27e89ad2-4f55-4d42-a9ac-88699bac91e8"
      },
      "execution_count": null,
      "outputs": [
        {
          "output_type": "execute_result",
          "data": {
            "text/plain": [
              "300"
            ]
          },
          "metadata": {},
          "execution_count": 7
        }
      ]
    },
    {
      "cell_type": "markdown",
      "source": [
        "## Exportanto os dados como Dataframe"
      ],
      "metadata": {
        "id": "bdihLiNYVvon"
      }
    },
    {
      "cell_type": "markdown",
      "source": [
        "Gerando o Dataframe"
      ],
      "metadata": {
        "id": "34vX15SaV1E9"
      }
    },
    {
      "cell_type": "code",
      "source": [
        "df_xbox_series_metacritic = pd.DataFrame(games)"
      ],
      "metadata": {
        "id": "ibSRoX5FUxWr"
      },
      "execution_count": null,
      "outputs": []
    },
    {
      "cell_type": "code",
      "source": [
        "df_xbox_series_metacritic"
      ],
      "metadata": {
        "colab": {
          "base_uri": "https://localhost:8080/",
          "height": 424
        },
        "id": "dlycJ4z2Wf3i",
        "outputId": "d0dc373c-ea05-4dc7-be9c-851b02449433"
      },
      "execution_count": null,
      "outputs": [
        {
          "output_type": "execute_result",
          "data": {
            "text/plain": [
              "                                   Name       Release date Metascore Userscore\n",
              "0                            Elden Ring  February 25, 2022        96       7.7\n",
              "1                       Persona 5 Royal   October 21, 2022        95       8.5\n",
              "2                                 Hades    August 13, 2021        93       8.6\n",
              "3     The Stanley Parable: Ultra Deluxe     April 27, 2022        93       8.5\n",
              "4                       Forza Horizon 5   November 5, 2021        92       8.2\n",
              "..                                  ...                ...       ...       ...\n",
              "295  Fatal Frame: Maiden of Black Water   October 28, 2021        60       9.3\n",
              "296                            Morkredd  December 10, 2020        60       5.7\n",
              "297                            Rugby 22   January 27, 2022        59       tbd\n",
              "298    Matchpoint: Tennis Championships       July 7, 2022        59       5.9\n",
              "299                          Foreclosed    August 12, 2021        59       5.8\n",
              "\n",
              "[300 rows x 4 columns]"
            ],
            "text/html": [
              "\n",
              "  <div id=\"df-f7185157-7483-49c7-b84b-5726758078c8\">\n",
              "    <div class=\"colab-df-container\">\n",
              "      <div>\n",
              "<style scoped>\n",
              "    .dataframe tbody tr th:only-of-type {\n",
              "        vertical-align: middle;\n",
              "    }\n",
              "\n",
              "    .dataframe tbody tr th {\n",
              "        vertical-align: top;\n",
              "    }\n",
              "\n",
              "    .dataframe thead th {\n",
              "        text-align: right;\n",
              "    }\n",
              "</style>\n",
              "<table border=\"1\" class=\"dataframe\">\n",
              "  <thead>\n",
              "    <tr style=\"text-align: right;\">\n",
              "      <th></th>\n",
              "      <th>Name</th>\n",
              "      <th>Release date</th>\n",
              "      <th>Metascore</th>\n",
              "      <th>Userscore</th>\n",
              "    </tr>\n",
              "  </thead>\n",
              "  <tbody>\n",
              "    <tr>\n",
              "      <th>0</th>\n",
              "      <td>Elden Ring</td>\n",
              "      <td>February 25, 2022</td>\n",
              "      <td>96</td>\n",
              "      <td>7.7</td>\n",
              "    </tr>\n",
              "    <tr>\n",
              "      <th>1</th>\n",
              "      <td>Persona 5 Royal</td>\n",
              "      <td>October 21, 2022</td>\n",
              "      <td>95</td>\n",
              "      <td>8.5</td>\n",
              "    </tr>\n",
              "    <tr>\n",
              "      <th>2</th>\n",
              "      <td>Hades</td>\n",
              "      <td>August 13, 2021</td>\n",
              "      <td>93</td>\n",
              "      <td>8.6</td>\n",
              "    </tr>\n",
              "    <tr>\n",
              "      <th>3</th>\n",
              "      <td>The Stanley Parable: Ultra Deluxe</td>\n",
              "      <td>April 27, 2022</td>\n",
              "      <td>93</td>\n",
              "      <td>8.5</td>\n",
              "    </tr>\n",
              "    <tr>\n",
              "      <th>4</th>\n",
              "      <td>Forza Horizon 5</td>\n",
              "      <td>November 5, 2021</td>\n",
              "      <td>92</td>\n",
              "      <td>8.2</td>\n",
              "    </tr>\n",
              "    <tr>\n",
              "      <th>...</th>\n",
              "      <td>...</td>\n",
              "      <td>...</td>\n",
              "      <td>...</td>\n",
              "      <td>...</td>\n",
              "    </tr>\n",
              "    <tr>\n",
              "      <th>295</th>\n",
              "      <td>Fatal Frame: Maiden of Black Water</td>\n",
              "      <td>October 28, 2021</td>\n",
              "      <td>60</td>\n",
              "      <td>9.3</td>\n",
              "    </tr>\n",
              "    <tr>\n",
              "      <th>296</th>\n",
              "      <td>Morkredd</td>\n",
              "      <td>December 10, 2020</td>\n",
              "      <td>60</td>\n",
              "      <td>5.7</td>\n",
              "    </tr>\n",
              "    <tr>\n",
              "      <th>297</th>\n",
              "      <td>Rugby 22</td>\n",
              "      <td>January 27, 2022</td>\n",
              "      <td>59</td>\n",
              "      <td>tbd</td>\n",
              "    </tr>\n",
              "    <tr>\n",
              "      <th>298</th>\n",
              "      <td>Matchpoint: Tennis Championships</td>\n",
              "      <td>July 7, 2022</td>\n",
              "      <td>59</td>\n",
              "      <td>5.9</td>\n",
              "    </tr>\n",
              "    <tr>\n",
              "      <th>299</th>\n",
              "      <td>Foreclosed</td>\n",
              "      <td>August 12, 2021</td>\n",
              "      <td>59</td>\n",
              "      <td>5.8</td>\n",
              "    </tr>\n",
              "  </tbody>\n",
              "</table>\n",
              "<p>300 rows × 4 columns</p>\n",
              "</div>\n",
              "      <button class=\"colab-df-convert\" onclick=\"convertToInteractive('df-f7185157-7483-49c7-b84b-5726758078c8')\"\n",
              "              title=\"Convert this dataframe to an interactive table.\"\n",
              "              style=\"display:none;\">\n",
              "        \n",
              "  <svg xmlns=\"http://www.w3.org/2000/svg\" height=\"24px\"viewBox=\"0 0 24 24\"\n",
              "       width=\"24px\">\n",
              "    <path d=\"M0 0h24v24H0V0z\" fill=\"none\"/>\n",
              "    <path d=\"M18.56 5.44l.94 2.06.94-2.06 2.06-.94-2.06-.94-.94-2.06-.94 2.06-2.06.94zm-11 1L8.5 8.5l.94-2.06 2.06-.94-2.06-.94L8.5 2.5l-.94 2.06-2.06.94zm10 10l.94 2.06.94-2.06 2.06-.94-2.06-.94-.94-2.06-.94 2.06-2.06.94z\"/><path d=\"M17.41 7.96l-1.37-1.37c-.4-.4-.92-.59-1.43-.59-.52 0-1.04.2-1.43.59L10.3 9.45l-7.72 7.72c-.78.78-.78 2.05 0 2.83L4 21.41c.39.39.9.59 1.41.59.51 0 1.02-.2 1.41-.59l7.78-7.78 2.81-2.81c.8-.78.8-2.07 0-2.86zM5.41 20L4 18.59l7.72-7.72 1.47 1.35L5.41 20z\"/>\n",
              "  </svg>\n",
              "      </button>\n",
              "      \n",
              "  <style>\n",
              "    .colab-df-container {\n",
              "      display:flex;\n",
              "      flex-wrap:wrap;\n",
              "      gap: 12px;\n",
              "    }\n",
              "\n",
              "    .colab-df-convert {\n",
              "      background-color: #E8F0FE;\n",
              "      border: none;\n",
              "      border-radius: 50%;\n",
              "      cursor: pointer;\n",
              "      display: none;\n",
              "      fill: #1967D2;\n",
              "      height: 32px;\n",
              "      padding: 0 0 0 0;\n",
              "      width: 32px;\n",
              "    }\n",
              "\n",
              "    .colab-df-convert:hover {\n",
              "      background-color: #E2EBFA;\n",
              "      box-shadow: 0px 1px 2px rgba(60, 64, 67, 0.3), 0px 1px 3px 1px rgba(60, 64, 67, 0.15);\n",
              "      fill: #174EA6;\n",
              "    }\n",
              "\n",
              "    [theme=dark] .colab-df-convert {\n",
              "      background-color: #3B4455;\n",
              "      fill: #D2E3FC;\n",
              "    }\n",
              "\n",
              "    [theme=dark] .colab-df-convert:hover {\n",
              "      background-color: #434B5C;\n",
              "      box-shadow: 0px 1px 3px 1px rgba(0, 0, 0, 0.15);\n",
              "      filter: drop-shadow(0px 1px 2px rgba(0, 0, 0, 0.3));\n",
              "      fill: #FFFFFF;\n",
              "    }\n",
              "  </style>\n",
              "\n",
              "      <script>\n",
              "        const buttonEl =\n",
              "          document.querySelector('#df-f7185157-7483-49c7-b84b-5726758078c8 button.colab-df-convert');\n",
              "        buttonEl.style.display =\n",
              "          google.colab.kernel.accessAllowed ? 'block' : 'none';\n",
              "\n",
              "        async function convertToInteractive(key) {\n",
              "          const element = document.querySelector('#df-f7185157-7483-49c7-b84b-5726758078c8');\n",
              "          const dataTable =\n",
              "            await google.colab.kernel.invokeFunction('convertToInteractive',\n",
              "                                                     [key], {});\n",
              "          if (!dataTable) return;\n",
              "\n",
              "          const docLinkHtml = 'Like what you see? Visit the ' +\n",
              "            '<a target=\"_blank\" href=https://colab.research.google.com/notebooks/data_table.ipynb>data table notebook</a>'\n",
              "            + ' to learn more about interactive tables.';\n",
              "          element.innerHTML = '';\n",
              "          dataTable['output_type'] = 'display_data';\n",
              "          await google.colab.output.renderOutput(dataTable, element);\n",
              "          const docLink = document.createElement('div');\n",
              "          docLink.innerHTML = docLinkHtml;\n",
              "          element.appendChild(docLink);\n",
              "        }\n",
              "      </script>\n",
              "    </div>\n",
              "  </div>\n",
              "  "
            ]
          },
          "metadata": {},
          "execution_count": 9
        }
      ]
    },
    {
      "cell_type": "code",
      "source": [
        "df_xbox_series_metacritic.info()"
      ],
      "metadata": {
        "colab": {
          "base_uri": "https://localhost:8080/"
        },
        "id": "0d3Yn381Zqh4",
        "outputId": "e75f7e1d-ab4a-423e-8717-4defd63e24ad"
      },
      "execution_count": null,
      "outputs": [
        {
          "output_type": "stream",
          "name": "stdout",
          "text": [
            "<class 'pandas.core.frame.DataFrame'>\n",
            "RangeIndex: 300 entries, 0 to 299\n",
            "Data columns (total 4 columns):\n",
            " #   Column        Non-Null Count  Dtype \n",
            "---  ------        --------------  ----- \n",
            " 0   Name          300 non-null    object\n",
            " 1   Release date  300 non-null    object\n",
            " 2   Metascore     300 non-null    object\n",
            " 3   Userscore     300 non-null    object\n",
            "dtypes: object(4)\n",
            "memory usage: 9.5+ KB\n"
          ]
        }
      ]
    },
    {
      "cell_type": "markdown",
      "source": [
        "Exportando o Dataframe"
      ],
      "metadata": {
        "id": "o0GYRqlzZzZw"
      }
    },
    {
      "cell_type": "code",
      "source": [
        "df_xbox_series_metacritic.to_csv('df_xbox_series_metacritic.csv', index = False, encoding = 'utf-8-sig')"
      ],
      "metadata": {
        "id": "7-jkvkAfZ12z"
      },
      "execution_count": null,
      "outputs": []
    }
  ]
}